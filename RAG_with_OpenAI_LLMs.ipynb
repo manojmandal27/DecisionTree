{
  "nbformat": 4,
  "nbformat_minor": 0,
  "metadata": {
    "colab": {
      "provenance": [],
      "include_colab_link": true
    },
    "kernelspec": {
      "name": "python3",
      "display_name": "Python 3"
    },
    "language_info": {
      "name": "python"
    }
  },
  "cells": [
    {
      "cell_type": "markdown",
      "metadata": {
        "id": "view-in-github",
        "colab_type": "text"
      },
      "source": [
        "<a href=\"https://colab.research.google.com/github/manojmandal27/DecisionTree/blob/main/RAG_with_OpenAI_LLMs.ipynb\" target=\"_parent\"><img src=\"https://colab.research.google.com/assets/colab-badge.svg\" alt=\"Open In Colab\"/></a>"
      ]
    },
    {
      "cell_type": "markdown",
      "source": [
        "## Learning Objectives\n",
        "\n",
        "At the end of the experiment, you will be able to:\n",
        "\n",
        "1. Load the Documents\n",
        "2. Splitting the documents into chunks\n",
        "3. Embedding the chunks and storing them in vector db\n",
        "4. Retrieving the relevant chunks to the query\n",
        " * Addressing Diversity\n",
        " * Addressing Specificity\n",
        "5. Connecting with LLM to get a final grounded answer"
      ],
      "metadata": {
        "id": "qWr7GKpxpEwc"
      }
    },
    {
      "cell_type": "markdown",
      "source": [
        "## Introduction"
      ],
      "metadata": {
        "id": "pc9b_a76b0RW"
      }
    },
    {
      "cell_type": "markdown",
      "source": [
        "> **RAG diagram:**\n",
        ">\n",
        "> <img src='https://drive.google.com/uc?id=1sCVvpsmtZEU1WSK1FFGMGHbEjrgtCNLi'>"
      ],
      "metadata": {
        "id": "LWnst4BvQZ_r"
      }
    },
    {
      "cell_type": "markdown",
      "source": [
        "> **Vector Store and Retrieval:**\n",
        ">\n",
        "> <img src='https://drive.google.com/uc?id=1_zX5gtSNrV8Qdx7Nz4_gMR8dCwvxCDS7' width=750px>"
      ],
      "metadata": {
        "id": "krKO3QbcQZ_z"
      }
    },
    {
      "cell_type": "markdown",
      "source": [
        "> **Embedding Model:**\n",
        ">\n",
        "> <img src='https://drive.google.com/uc?id=1HnvjGJ4HmpS-0wndpH-Q8cKMwIwWkTUe'>"
      ],
      "metadata": {
        "id": "5AYo-OK9QZ_z"
      }
    },
    {
      "cell_type": "markdown",
      "source": [
        "> **Retrieval in Action:**\n",
        ">\n",
        "> <img src='https://drive.google.com/uc?id=1ry2TWFsewwqYP3Lw9muuPmbyuQqXwnYV' width=800px>"
      ],
      "metadata": {
        "id": "EI62t_drQZ_0"
      }
    },
    {
      "cell_type": "markdown",
      "source": [
        "> **Example workflow with embedding model:**\n",
        ">\n",
        "><br>\n",
        ">\n",
        "> <img src='https://drive.google.com/uc?id=1zTuMMX54L2HrnmCYktTxVfMVrkIz8w15' width=600px>"
      ],
      "metadata": {
        "id": "GfgDb8sWQZ_0"
      }
    },
    {
      "cell_type": "markdown",
      "source": [
        "### Install Dependencies"
      ],
      "metadata": {
        "id": "5KsPoPtTZ8K5"
      }
    },
    {
      "cell_type": "code",
      "execution_count": null,
      "metadata": {
        "collapsed": true,
        "id": "v5_-MW5g3xVj"
      },
      "outputs": [],
      "source": [
        "%%capture\n",
        "!pip -q install openai\n",
        "!pip -q install langchain-openai\n",
        "!pip -q install langchain-core\n",
        "!pip -q install langchain-community\n",
        "!pip -q install sentence-transformers\n",
        "!pip -q install langchain-huggingface\n",
        "!pip -q install langchain-chroma\n",
        "!pip -q install chromadb\n",
        "!pip -q install pypdf"
      ]
    },
    {
      "cell_type": "markdown",
      "source": [
        "### Import Required Packages"
      ],
      "metadata": {
        "id": "ayJlGGiXaBLN"
      }
    },
    {
      "cell_type": "code",
      "source": [
        "import os\n",
        "import openai\n",
        "import numpy as np\n",
        "from langchain_community.document_loaders import PyPDFLoader\n",
        "from langchain_openai import ChatOpenAI\n",
        "from langchain_chroma import Chroma\n",
        "from langchain_core.prompts import PromptTemplate\n",
        "from langchain_core.output_parsers import StrOutputParser\n",
        "from langchain.schema.runnable import RunnablePassthrough"
      ],
      "metadata": {
        "id": "GU2BjXKhaD5W"
      },
      "execution_count": null,
      "outputs": []
    },
    {
      "cell_type": "markdown",
      "source": [
        "#### **Provide your OpenAI API key**"
      ],
      "metadata": {
        "id": "5XF7eEn4oaUJ"
      }
    },
    {
      "cell_type": "code",
      "source": [
        "# Read OpenAI key from Colab Secrets\n",
        "\n",
        "from google.colab import userdata\n",
        "\n",
        "api_key = userdata.get('OA_API')           # <-- change this as per your secret's name\n",
        "os.environ['OPENAI_API_KEY'] = api_key\n",
        "openai.api_key = os.getenv('OPENAI_API_KEY')"
      ],
      "metadata": {
        "id": "cgfRX83Jb5jQ"
      },
      "execution_count": null,
      "outputs": []
    },
    {
      "cell_type": "markdown",
      "source": [
        "### Load LLM"
      ],
      "metadata": {
        "id": "EaLaiX0x-AKC"
      }
    },
    {
      "cell_type": "code",
      "source": [
        "# Load Model\n",
        "\n",
        "from langchain_openai import ChatOpenAI\n",
        "\n",
        "llm = ChatOpenAI(model_name=\"gpt-4o-mini\", temperature=0)"
      ],
      "metadata": {
        "id": "smjp5Nk--I5i"
      },
      "execution_count": null,
      "outputs": []
    },
    {
      "cell_type": "code",
      "source": [
        "# General query\n",
        "response = llm.invoke(\"How to learn programming? give 5 points\")\n",
        "print(response.content)"
      ],
      "metadata": {
        "id": "46xBxPUM-I_S",
        "outputId": "b0e942d9-0fb3-4e45-f69c-d4de4fc17e16",
        "colab": {
          "base_uri": "https://localhost:8080/"
        }
      },
      "execution_count": null,
      "outputs": [
        {
          "output_type": "stream",
          "name": "stdout",
          "text": [
            "Learning programming can be an exciting and rewarding journey. Here are five key points to help you get started:\n",
            "\n",
            "1. **Choose a Programming Language**: Start with a beginner-friendly language such as Python, JavaScript, or Ruby. Python is often recommended for its readability and versatility, making it suitable for various applications, from web development to data science.\n",
            "\n",
            "2. **Utilize Online Resources**: Take advantage of online platforms like Codecademy, freeCodeCamp, Coursera, or edX. These platforms offer structured courses, tutorials, and exercises that can help you learn at your own pace.\n",
            "\n",
            "3. **Practice Regularly**: Consistent practice is crucial for mastering programming. Work on small projects, solve coding challenges on platforms like LeetCode or HackerRank, and contribute to open-source projects to apply what you’ve learned.\n",
            "\n",
            "4. **Join a Community**: Engage with other learners and experienced programmers through forums like Stack Overflow, Reddit, or local coding meetups. Participating in a community can provide support, motivation, and valuable feedback.\n",
            "\n",
            "5. **Build Projects**: Start building your own projects, no matter how simple. This could be a personal website, a small game, or a tool that solves a problem you have. Projects help reinforce your learning and give you practical experience.\n",
            "\n",
            "By following these steps and maintaining a curious and persistent mindset, you'll be well on your way to becoming a proficient programmer.\n"
          ]
        }
      ]
    },
    {
      "cell_type": "markdown",
      "source": [
        "### **Loading the documents**\n",
        "\n",
        "[PDF Loader](https://python.langchain.com/docs/how_to/document_loader_pdf/)"
      ],
      "metadata": {
        "id": "QJBCqkTXCmg2"
      }
    },
    {
      "cell_type": "code",
      "source": [
        "# UPLOAD the Docs first to this notebook, then run this cell\n",
        "\n",
        "from langchain_community.document_loaders import PyPDFLoader\n",
        "\n",
        "# Load PDF\n",
        "loaders = [\n",
        "    PyPDFLoader(\"/content/pca_d1.pdf\"),\n",
        "    PyPDFLoader(\"/content/ens_d2.pdf\"),\n",
        "    PyPDFLoader(\"/content/ens_d2.pdf\"),    # Loading duplicate documents on purpose\n",
        "]\n",
        "\n",
        "docs = []\n",
        "for loader in loaders:\n",
        "    docs.extend(loader.load())\n"
      ],
      "metadata": {
        "id": "e_GL3dr9GG05"
      },
      "execution_count": null,
      "outputs": []
    },
    {
      "cell_type": "code",
      "source": [
        "len(docs)        # 7 pages were there in total from above documents"
      ],
      "metadata": {
        "id": "Duzb1D3qPGix",
        "outputId": "059fcaa9-4c6a-47ca-8ee2-a5616af6bdce",
        "colab": {
          "base_uri": "https://localhost:8080/"
        }
      },
      "execution_count": null,
      "outputs": [
        {
          "output_type": "execute_result",
          "data": {
            "text/plain": [
              "7"
            ]
          },
          "metadata": {},
          "execution_count": 10
        }
      ]
    },
    {
      "cell_type": "code",
      "source": [
        "docs"
      ],
      "metadata": {
        "id": "NxinwPVCOkcI",
        "outputId": "e94e6ea1-d245-423c-87ad-1c2e29e177c3",
        "colab": {
          "base_uri": "https://localhost:8080/"
        }
      },
      "execution_count": null,
      "outputs": [
        {
          "output_type": "execute_result",
          "data": {
            "text/plain": [
              "[Document(metadata={'source': '/content/pca_d1.pdf', 'page': 0}, page_content=' \\n1 \\n \\n \\nN \\n \\n1 Principal Component Analysis \\nIn real world data analysis tasks we analyze complex data i.e. multi dimensional data. We plot the  \\ndata and find various patterns in it or use it to train some machine learning models.  One way to  \\nthink about dimensions is that suppose you have an data point x , if we consider this data point as \\na physical object then dimensions are merely a basis of view, like where is the data located when \\nit is observed from horizontal axis or vertical axis. \\nAs the dimensions of data increases, the difficulty to visualize it and perform computations on \\nit also increases. So, how to reduce the dimensions of a data:- \\n• Remove the redundant dimensions \\n• Only keep the most important dimensions  \\nLet us first try to understand some terms:- \\nVariance : It is a measure of the variability or it simply measures how spread the data set is.  \\nMathematically, it is the average squared deviation from the mean score. We use the following \\nformula to compute variance var(x). \\n \\nvar(x) = \\nΣ(xi−x¯)2 \\nN \\nCovariance :  It is a measure of the extent to which corresponding elements from two sets of  \\nordered data move in the same direction. Formula is shown below denoted by cov(x,y) as the  \\ncovariance of x and y. \\nvar(x)  =  \\nΣ(xi−x¯)(yi−y¯) \\n• Here, xi is the value of x in ith dimension. \\n• x bar and y bar denote the corresponding mean values. \\n• One way to observe the covariance is how interrelated two data sets are. \\nPositive covariance means X and Y are positively related i.e. as X increases Y also increases.  \\nNegative covariance depicts the exact opposite relation.  However zero covariance means X and Y  \\nare not related. \\nNow lets think about the requirement of data analysis. \\nSince we try to find the patterns among the data sets so we want the data to be spread out  \\nacross each dimension. Also, we want the dimensions to be independent. Such that if data has high \\ncovariance when represented in some n number of dimensions then we replace those dimensions  \\nwith linear combination of those n dimensions. Now that data will only be dependent on linear  \\ncombination of those related n dimensions. (related = have high covariance) \\n'),\n",
              " Document(metadata={'source': '/content/pca_d1.pdf', 'page': 1}, page_content=' \\n2 \\n \\n \\n \\nSo, what does Principal Component Analysis (PCA) do? \\nPCA finds a new set of dimensions (or a set of basis of views) such that all the dimensions are  \\northogonal (and hence linearly independent) and ranked according to the variance of data along  \\nthem. It means more important principle axis occurs first. (more important = more variance/more  \\nspread out data) \\n \\nHow does PCA work? \\n• Calculate the covariance matrix X of data points. \\n• Calculate eigenvectors and corresponding eigenvalues. \\n• Sort the eigenvectors according to their eigenvalues in decreasing order. \\n• Choose first k eigenvectors and that will be the new k dimensions. \\n• Transform the original n dimensional data points into k dimensions. \\n \\nTo understand the detail working of PCA, we should have knowledge of eigen values and eigen  \\nvectors \\n \\nEigenvectors: The directions in which our data are dispersed. \\nEigenvalues: The relative importance of these different directions. \\n \\n[Covariance matrix].[Eigenvector] = [eigenvalue].[Eigenvector] \\nLets look into what a covariance matrix is? \\nA covariance matrix of some data set in 4 dimensions a,b,c,d. \\n□ Va Ca,b Ca,c Ca,d Ca,e \\n  \\n□ Ca,b Vb Cb,c Cb,d Cb,e \\n  \\n \\n \\nVa : variance along dimension a \\nCa,b : Covariance along dimension a and b \\nIf we have a matrix X of m*n dimension such that it holds n data points of m dimensions, then \\ncovariance matrix can be calculated as \\nC   =    1  (X − X¯ )(X − X¯ )T \\n \\nx n−1 \\nIt is important to note that the covariance matrix contains:- \\n• variance of dimensions as the main diagonal elements. \\n• covariance of dimensions as the off diagonal elements. \\nAlso, covariance matrix is symmetric (observe from the image above) \\nCa,c Cb,c Vc Cc,d Cc e \\nCa,d Cb,d Cc,d Vd Cd e \\nCa,e Cb,e Cc,e Cd,e Ve \\n '),\n",
              " Document(metadata={'source': '/content/pca_d1.pdf', 'page': 2}, page_content=' \\n3 \\n \\n \\n \\nAs, we discussed earlier we want the data to be spread out i.e. it should have high variance along  \\ndimensions. Also  we want to remove correlated dimensions i.e. covariance among the dimensions  \\nshould be zero (they should be linearly independent). \\nTherefore, our covariance matrix should have:- \\n• large numbers as the main diagonal elements. \\n• zero values as the off diagonal elements. \\nWe call it a diagonal matrix. So, we have to transform the original data points such that their  \\ncovariance is a diagonal matrix. \\nAlways normalize your data before doing PCA if we use data (features here) of different scales, we \\nget misleading components. We can also simply use correlation matrix instead of using covariance  \\nmatrix if features are of different scales. \\nThis defines the goal of PCA:- \\n1. Find linearly independent dimensions which can losslessly represent the data points. \\n2. Those newly found dimensions should allow us to predict/reconstruct the original dimensions. '),\n",
              " Document(metadata={'source': '/content/ens_d2.pdf', 'page': 0}, page_content='1  \\n \\nEnsemble Methods \\nLet us consider a real world situation which uses Ensemble Methods, which is, when a user wants \\nto buy a new product. Many users who have already purchased that product will have given either  \\npositive or negative ratings. If in the group, many users have given positive ratings, then the \\ncombined rating will be positive. Instead of a single rating, the ratings of the group of users is \\nconsidered. The product is bought by the user when the combined ratings of the group is positive. \\nThe user gets a fairer idea about the product when all the ratings are combined. \\nHere, the combination of ratings is done so that the decision making process of the user is made  \\neasy. \\nEnsemble Methods refer to combining many different machine learning models in order to get a  \\nmore powerful prediction. \\nThus, ensemble methods increase the accuracy of the predictions. \\n \\nWhy use Ensemble Methods? \\nEnsemble Methods are used in order to: \\n• decrease variance (bagging) \\n• decrease bias (boosting) \\n• improve predictions (stacking) \\n \\nBagging \\nBagging actually refers to Bootstrap Aggregators. \\nBagging tests multiple models on the data by sampling and replacing data i.e it utilizes bootstrap - \\nping. In turn, this reduces the noise and variance by utilizing multiple samples. Each hypothesis \\nhas the same weight as all the others. Now, aggregating of the outputs of various models is done. \\n \\nBoosting \\nBoosting is an iterative technique which adjusts the weight of an observation based on the last  \\nclassification. If an observation was classified incorrectly, it tries to increase the weight of this  \\nobservation and vice versa. Boosting in general decreases the bias error and builds strong predictive  \\nmodels. \\n \\nVariance \\nVariance quantifies how the predictions made on same observation are different from each other. A  \\nhigh variance model will over -fit on your training population and perform badly on any observation  \\nbeyond training. Thus, we aim at low variance. '),\n",
              " Document(metadata={'source': '/content/ens_d2.pdf', 'page': 1}, page_content='2  \\n \\nBias \\nBias error is useful to quantify how much on on average are the predicted values different from the  \\nactual value. A high  bias  error means we have a under -performing model.  Thus,  we aim at low  \\nbias. \\nA commonly used class of ensemble methods are forests of randomized trees. \\nIn random forests, each tree in the ensemble is built from a sample drawn with replacement (i.e. \\na bootstrap sample) from the training set. In addition, instead of using all the features, a random  \\nsubset of features is selected, further randomizing the tree. \\nAs a result, the bias of the forest increases slightly, but due to the averaging of less correlated  \\ntrees, its variance decreases, resulting in an overall better model. '),\n",
              " Document(metadata={'source': '/content/ens_d2.pdf', 'page': 0}, page_content='1  \\n \\nEnsemble Methods \\nLet us consider a real world situation which uses Ensemble Methods, which is, when a user wants \\nto buy a new product. Many users who have already purchased that product will have given either  \\npositive or negative ratings. If in the group, many users have given positive ratings, then the \\ncombined rating will be positive. Instead of a single rating, the ratings of the group of users is \\nconsidered. The product is bought by the user when the combined ratings of the group is positive. \\nThe user gets a fairer idea about the product when all the ratings are combined. \\nHere, the combination of ratings is done so that the decision making process of the user is made  \\neasy. \\nEnsemble Methods refer to combining many different machine learning models in order to get a  \\nmore powerful prediction. \\nThus, ensemble methods increase the accuracy of the predictions. \\n \\nWhy use Ensemble Methods? \\nEnsemble Methods are used in order to: \\n• decrease variance (bagging) \\n• decrease bias (boosting) \\n• improve predictions (stacking) \\n \\nBagging \\nBagging actually refers to Bootstrap Aggregators. \\nBagging tests multiple models on the data by sampling and replacing data i.e it utilizes bootstrap - \\nping. In turn, this reduces the noise and variance by utilizing multiple samples. Each hypothesis \\nhas the same weight as all the others. Now, aggregating of the outputs of various models is done. \\n \\nBoosting \\nBoosting is an iterative technique which adjusts the weight of an observation based on the last  \\nclassification. If an observation was classified incorrectly, it tries to increase the weight of this  \\nobservation and vice versa. Boosting in general decreases the bias error and builds strong predictive  \\nmodels. \\n \\nVariance \\nVariance quantifies how the predictions made on same observation are different from each other. A  \\nhigh variance model will over -fit on your training population and perform badly on any observation  \\nbeyond training. Thus, we aim at low variance. '),\n",
              " Document(metadata={'source': '/content/ens_d2.pdf', 'page': 1}, page_content='2  \\n \\nBias \\nBias error is useful to quantify how much on on average are the predicted values different from the  \\nactual value. A high  bias  error means we have a under -performing model.  Thus,  we aim at low  \\nbias. \\nA commonly used class of ensemble methods are forests of randomized trees. \\nIn random forests, each tree in the ensemble is built from a sample drawn with replacement (i.e. \\na bootstrap sample) from the training set. In addition, instead of using all the features, a random  \\nsubset of features is selected, further randomizing the tree. \\nAs a result, the bias of the forest increases slightly, but due to the averaging of less correlated  \\ntrees, its variance decreases, resulting in an overall better model. ')]"
            ]
          },
          "metadata": {},
          "execution_count": 11
        }
      ]
    },
    {
      "cell_type": "code",
      "source": [
        "print(docs[0].page_content)"
      ],
      "metadata": {
        "collapsed": true,
        "id": "0A3xSoDADmAf",
        "outputId": "13b63066-f751-46b2-a300-aa63e5eb1005",
        "colab": {
          "base_uri": "https://localhost:8080/"
        }
      },
      "execution_count": null,
      "outputs": [
        {
          "output_type": "stream",
          "name": "stdout",
          "text": [
            " \n",
            "1 \n",
            " \n",
            " \n",
            "N \n",
            " \n",
            "1 Principal Component Analysis \n",
            "In real world data analysis tasks we analyze complex data i.e. multi dimensional data. We plot the  \n",
            "data and find various patterns in it or use it to train some machine learning models.  One way to  \n",
            "think about dimensions is that suppose you have an data point x , if we consider this data point as \n",
            "a physical object then dimensions are merely a basis of view, like where is the data located when \n",
            "it is observed from horizontal axis or vertical axis. \n",
            "As the dimensions of data increases, the difficulty to visualize it and perform computations on \n",
            "it also increases. So, how to reduce the dimensions of a data:- \n",
            "• Remove the redundant dimensions \n",
            "• Only keep the most important dimensions  \n",
            "Let us first try to understand some terms:- \n",
            "Variance : It is a measure of the variability or it simply measures how spread the data set is.  \n",
            "Mathematically, it is the average squared deviation from the mean score. We use the following \n",
            "formula to compute variance var(x). \n",
            " \n",
            "var(x) = \n",
            "Σ(xi−x¯)2 \n",
            "N \n",
            "Covariance :  It is a measure of the extent to which corresponding elements from two sets of  \n",
            "ordered data move in the same direction. Formula is shown below denoted by cov(x,y) as the  \n",
            "covariance of x and y. \n",
            "var(x)  =  \n",
            "Σ(xi−x¯)(yi−y¯) \n",
            "• Here, xi is the value of x in ith dimension. \n",
            "• x bar and y bar denote the corresponding mean values. \n",
            "• One way to observe the covariance is how interrelated two data sets are. \n",
            "Positive covariance means X and Y are positively related i.e. as X increases Y also increases.  \n",
            "Negative covariance depicts the exact opposite relation.  However zero covariance means X and Y  \n",
            "are not related. \n",
            "Now lets think about the requirement of data analysis. \n",
            "Since we try to find the patterns among the data sets so we want the data to be spread out  \n",
            "across each dimension. Also, we want the dimensions to be independent. Such that if data has high \n",
            "covariance when represented in some n number of dimensions then we replace those dimensions  \n",
            "with linear combination of those n dimensions. Now that data will only be dependent on linear  \n",
            "combination of those related n dimensions. (related = have high covariance) \n",
            "\n"
          ]
        }
      ]
    },
    {
      "cell_type": "markdown",
      "source": [
        "### **Splitting of document**\n",
        "\n",
        "[Recursively split by character](https://python.langchain.com/docs/how_to/recursive_text_splitter/)\n",
        "\n",
        "[Split by character](https://python.langchain.com/docs/how_to/character_text_splitter/)"
      ],
      "metadata": {
        "id": "wdrvHT_28jvw"
      }
    },
    {
      "cell_type": "code",
      "source": [
        "from langchain_text_splitters import RecursiveCharacterTextSplitter"
      ],
      "metadata": {
        "id": "duFVDKbk8qpo"
      },
      "execution_count": null,
      "outputs": []
    },
    {
      "cell_type": "code",
      "source": [
        "# Split\n",
        "text_splitter = RecursiveCharacterTextSplitter(\n",
        "    chunk_size = 500,\n",
        "    chunk_overlap = 50\n",
        ")"
      ],
      "metadata": {
        "id": "uKSoLugt9hgs"
      },
      "execution_count": null,
      "outputs": []
    },
    {
      "cell_type": "code",
      "source": [
        "splits = text_splitter.split_documents(docs)\n",
        "\n",
        "print(len(splits))\n",
        "print(len(splits[0].page_content) )\n",
        "splits[0].page_content"
      ],
      "metadata": {
        "id": "4mjs7XDl9m6b",
        "outputId": "7c246f1a-1db4-45c3-f32c-90b6ee1b22c2",
        "colab": {
          "base_uri": "https://localhost:8080/",
          "height": 122
        }
      },
      "execution_count": null,
      "outputs": [
        {
          "output_type": "stream",
          "name": "stdout",
          "text": [
            "26\n",
            "443\n"
          ]
        },
        {
          "output_type": "execute_result",
          "data": {
            "text/plain": [
              "'1 \\n \\n \\nN \\n \\n1 Principal Component Analysis \\nIn real world data analysis tasks we analyze complex data i.e. multi dimensional data. We plot the  \\ndata and find various patterns in it or use it to train some machine learning models.  One way to  \\nthink about dimensions is that suppose you have an data point x , if we consider this data point as \\na physical object then dimensions are merely a basis of view, like where is the data located when'"
            ],
            "application/vnd.google.colaboratory.intrinsic+json": {
              "type": "string"
            }
          },
          "metadata": {},
          "execution_count": 15
        }
      ]
    },
    {
      "cell_type": "code",
      "source": [
        "splits[0]"
      ],
      "metadata": {
        "id": "y-QuwWdH2-vt",
        "outputId": "45967651-e0c1-4bc2-fbae-13f28ce9f626",
        "colab": {
          "base_uri": "https://localhost:8080/"
        }
      },
      "execution_count": null,
      "outputs": [
        {
          "output_type": "execute_result",
          "data": {
            "text/plain": [
              "Document(metadata={'source': '/content/pca_d1.pdf', 'page': 0}, page_content='1 \\n \\n \\nN \\n \\n1 Principal Component Analysis \\nIn real world data analysis tasks we analyze complex data i.e. multi dimensional data. We plot the  \\ndata and find various patterns in it or use it to train some machine learning models.  One way to  \\nthink about dimensions is that suppose you have an data point x , if we consider this data point as \\na physical object then dimensions are merely a basis of view, like where is the data located when')"
            ]
          },
          "metadata": {},
          "execution_count": 16
        }
      ]
    },
    {
      "cell_type": "markdown",
      "source": [
        "### **Embeddings**\n",
        "\n",
        "Let's take our splits and embed them."
      ],
      "metadata": {
        "id": "JuSgQ0p_-d97"
      }
    },
    {
      "cell_type": "code",
      "source": [
        "from langchain_openai import OpenAIEmbeddings\n",
        "\n",
        "embedding = OpenAIEmbeddings(model='text-embedding-3-small')"
      ],
      "metadata": {
        "id": "rEcodF14Gkuv"
      },
      "execution_count": null,
      "outputs": []
    },
    {
      "cell_type": "code",
      "source": [
        "embedding"
      ],
      "metadata": {
        "id": "OaXEK1AkGxod",
        "outputId": "e8e6fecb-6025-49a0-a075-c0cccc4f20da",
        "colab": {
          "base_uri": "https://localhost:8080/"
        }
      },
      "execution_count": null,
      "outputs": [
        {
          "output_type": "execute_result",
          "data": {
            "text/plain": [
              "OpenAIEmbeddings(client=<openai.resources.embeddings.Embeddings object at 0x7a1b02bc7bb0>, async_client=<openai.resources.embeddings.AsyncEmbeddings object at 0x7a1b02c37cd0>, model='text-embedding-3-small', dimensions=None, deployment='text-embedding-ada-002', openai_api_version=None, openai_api_base=None, openai_api_type=None, openai_proxy=None, embedding_ctx_length=8191, openai_api_key=SecretStr('**********'), openai_organization=None, allowed_special=None, disallowed_special=None, chunk_size=1000, max_retries=2, request_timeout=None, headers=None, tiktoken_enabled=True, tiktoken_model_name=None, show_progress_bar=False, model_kwargs={}, skip_empty=False, default_headers=None, default_query=None, retry_min_seconds=4, retry_max_seconds=20, http_client=None, http_async_client=None, check_embedding_ctx_length=True)"
            ]
          },
          "metadata": {},
          "execution_count": 18
        }
      ]
    },
    {
      "cell_type": "markdown",
      "source": [
        "### **Understanding similarity search with a toy example**"
      ],
      "metadata": {
        "id": "qkTrtTYh_N1L"
      }
    },
    {
      "cell_type": "code",
      "source": [
        "sentence1 = \"i like dogs\"\n",
        "sentence2 = \"i like cats\"\n",
        "sentence3 = \"the weather is ugly, too hot outside\""
      ],
      "metadata": {
        "id": "4L8_BLc6_O6Q"
      },
      "execution_count": null,
      "outputs": []
    },
    {
      "cell_type": "code",
      "source": [
        "embedding1 = embedding.embed_query(sentence1)\n",
        "embedding2 = embedding.embed_query(sentence2)\n",
        "embedding3 = embedding.embed_query(sentence3)"
      ],
      "metadata": {
        "id": "V8IZ6a4G_SzI"
      },
      "execution_count": null,
      "outputs": []
    },
    {
      "cell_type": "code",
      "source": [
        "len(embedding1), len(embedding2), len(embedding3)"
      ],
      "metadata": {
        "id": "_PkO3fMe_WOx",
        "outputId": "0537b14d-2b45-4c5c-9d7a-e844b19dd245",
        "colab": {
          "base_uri": "https://localhost:8080/"
        }
      },
      "execution_count": null,
      "outputs": [
        {
          "output_type": "execute_result",
          "data": {
            "text/plain": [
              "(1536, 1536, 1536)"
            ]
          },
          "metadata": {},
          "execution_count": 21
        }
      ]
    },
    {
      "cell_type": "code",
      "source": [
        "embedding1[:10]"
      ],
      "metadata": {
        "id": "yROw-cqp32tk",
        "outputId": "be9d6e9a-cff8-480c-96ef-1f260fe9c84f",
        "colab": {
          "base_uri": "https://localhost:8080/"
        }
      },
      "execution_count": null,
      "outputs": [
        {
          "output_type": "execute_result",
          "data": {
            "text/plain": [
              "[0.016543298959732056,\n",
              " -0.03333469107747078,\n",
              " 3.722277324413881e-05,\n",
              " 0.0063320123590528965,\n",
              " 0.02789919637143612,\n",
              " -0.011942299082875252,\n",
              " -0.007651416584849358,\n",
              " 0.037259072065353394,\n",
              " -0.07275893539190292,\n",
              " -0.022069009020924568]"
            ]
          },
          "metadata": {},
          "execution_count": 22
        }
      ]
    },
    {
      "cell_type": "code",
      "source": [
        "import numpy as np\n",
        "\n",
        "def cosine_similarity(vector1, vector2):\n",
        "    # Ensure that the vectors are numpy arrays\n",
        "    vector1 = np.array(vector1)\n",
        "    vector2 = np.array(vector2)\n",
        "\n",
        "    # Calculate the dot product of the vectors\n",
        "    dot_product = np.dot(vector1, vector2)\n",
        "\n",
        "    # Calculate the magnitude (norm) of the vectors\n",
        "    norm_vector1 = np.linalg.norm(vector1)\n",
        "    norm_vector2 = np.linalg.norm(vector2)\n",
        "\n",
        "    # Compute cosine similarity\n",
        "    if norm_vector1 == 0 or norm_vector2 == 0:\n",
        "        return 0  # Avoid division by zero\n",
        "    return dot_product / (norm_vector1 * norm_vector2)\n"
      ],
      "metadata": {
        "id": "of5PTiI6_v_7"
      },
      "execution_count": null,
      "outputs": []
    },
    {
      "cell_type": "code",
      "source": [
        "cosine_similarity(embedding1, embedding2), cosine_similarity(embedding1, embedding3), cosine_similarity(embedding2, embedding3)"
      ],
      "metadata": {
        "id": "m9aJr_JIAI4e",
        "outputId": "7ec3d56b-8e0c-41a4-abe5-37c61631d4fc",
        "colab": {
          "base_uri": "https://localhost:8080/"
        }
      },
      "execution_count": null,
      "outputs": [
        {
          "output_type": "execute_result",
          "data": {
            "text/plain": [
              "(0.7222641205374054, 0.20250974039559247, 0.1820158505380567)"
            ]
          },
          "metadata": {},
          "execution_count": 24
        }
      ]
    },
    {
      "cell_type": "markdown",
      "source": [
        "### **Vectorstores**"
      ],
      "metadata": {
        "id": "_c6sV1LZAn2L"
      }
    },
    {
      "cell_type": "code",
      "source": [
        "from langchain_chroma import Chroma       # Light-weight and in memory"
      ],
      "metadata": {
        "id": "P_-M_ifhAsAj"
      },
      "execution_count": null,
      "outputs": []
    },
    {
      "cell_type": "code",
      "source": [
        "persist_directory = 'docs/chroma/'\n",
        "!rm -rf ./docs/chroma  # remove old database files if any"
      ],
      "metadata": {
        "id": "psySqG1WAwCZ"
      },
      "execution_count": null,
      "outputs": []
    },
    {
      "cell_type": "code",
      "source": [
        "vectordb = Chroma.from_documents(\n",
        "    documents=splits,                    # splits we created earlier\n",
        "    embedding=embedding,\n",
        "    persist_directory=persist_directory, # save the directory\n",
        ")"
      ],
      "metadata": {
        "id": "Rfidz1UDA8B6"
      },
      "execution_count": null,
      "outputs": []
    },
    {
      "cell_type": "code",
      "source": [
        "print(vectordb._collection.count()) # same as number of splits"
      ],
      "metadata": {
        "id": "zy88zfxWBjOv",
        "outputId": "0fb42459-0c98-4633-9e48-45f5541b3054",
        "colab": {
          "base_uri": "https://localhost:8080/"
        }
      },
      "execution_count": null,
      "outputs": [
        {
          "output_type": "stream",
          "name": "stdout",
          "text": [
            "26\n"
          ]
        }
      ]
    },
    {
      "cell_type": "markdown",
      "source": [
        "### **Similarity Search in Vector store**\n",
        "\n",
        "Algorithms for retrieving relevant chunks In Vector databases,\n",
        "\n",
        "In vector databases, algorithms for retrieving relevant chunks to a query are often based on **similarity search techniques**, primarily using nearest neighbor search.\n",
        "\n",
        "Here are some common approaches:\n",
        "\n",
        ">**Approximate Nearest Neighbor (ANN) Search:** Vector databases frequently use ANN algorithms to improve efficiency when searching for vectors that\n",
        "are close to the query vector.\n",
        ">\n",
        ">Popular **ANN** algorithms include:\n",
        ">\n",
        ">1. HNSW (Hierarchical Navigable Small World Graph): This is a graph-based approach that finds approximate nearest neighbors using a multi-\n",
        "layered graph structure.\n",
        ">\n",
        ">2. Faiss: An open-source library developed by Facebook, which uses various algorithms for fast similarity search, such as Product Quantization and\n",
        "Inverted File System (IVF).\n",
        ">\n",
        ">3. Annoy (Approximate Nearest Neighbors Oh Yeah): Developed by Spotify, it uses a forest of random projection trees for approximate nearest\n",
        "neighbor search.\n"
      ],
      "metadata": {
        "id": "34sLEBpRGm-u"
      }
    },
    {
      "cell_type": "code",
      "source": [
        "question = \"How does ensemble method works?\""
      ],
      "metadata": {
        "id": "X0o4yUxfGo_W"
      },
      "execution_count": null,
      "outputs": []
    },
    {
      "cell_type": "code",
      "source": [
        "docs = vectordb.similarity_search(question, k=6)     # k --> No. of Document object to return"
      ],
      "metadata": {
        "id": "BZsCVQUrGsEm",
        "collapsed": true
      },
      "execution_count": null,
      "outputs": []
    },
    {
      "cell_type": "code",
      "source": [
        "print(len(docs))\n",
        "\n",
        "for i in range(len(docs)):\n",
        "    print(docs[i].page_content)\n",
        "    print('='*140)"
      ],
      "metadata": {
        "id": "XMvtnoEiaeqL",
        "outputId": "093f5075-c652-4475-b198-2aa8ff9eef84",
        "colab": {
          "base_uri": "https://localhost:8080/"
        }
      },
      "execution_count": null,
      "outputs": [
        {
          "output_type": "stream",
          "name": "stdout",
          "text": [
            "6\n",
            "Why use Ensemble Methods? \n",
            "Ensemble Methods are used in order to: \n",
            "• decrease variance (bagging) \n",
            "• decrease bias (boosting) \n",
            "• improve predictions (stacking) \n",
            " \n",
            "Bagging \n",
            "Bagging actually refers to Bootstrap Aggregators. \n",
            "Bagging tests multiple models on the data by sampling and replacing data i.e it utilizes bootstrap - \n",
            "ping. In turn, this reduces the noise and variance by utilizing multiple samples. Each hypothesis\n",
            "============================================================================================================================================\n",
            "Why use Ensemble Methods? \n",
            "Ensemble Methods are used in order to: \n",
            "• decrease variance (bagging) \n",
            "• decrease bias (boosting) \n",
            "• improve predictions (stacking) \n",
            " \n",
            "Bagging \n",
            "Bagging actually refers to Bootstrap Aggregators. \n",
            "Bagging tests multiple models on the data by sampling and replacing data i.e it utilizes bootstrap - \n",
            "ping. In turn, this reduces the noise and variance by utilizing multiple samples. Each hypothesis\n",
            "============================================================================================================================================\n",
            "considered. The product is bought by the user when the combined ratings of the group is positive. \n",
            "The user gets a fairer idea about the product when all the ratings are combined. \n",
            "Here, the combination of ratings is done so that the decision making process of the user is made  \n",
            "easy. \n",
            "Ensemble Methods refer to combining many different machine learning models in order to get a  \n",
            "more powerful prediction. \n",
            "Thus, ensemble methods increase the accuracy of the predictions.\n",
            "============================================================================================================================================\n",
            "considered. The product is bought by the user when the combined ratings of the group is positive. \n",
            "The user gets a fairer idea about the product when all the ratings are combined. \n",
            "Here, the combination of ratings is done so that the decision making process of the user is made  \n",
            "easy. \n",
            "Ensemble Methods refer to combining many different machine learning models in order to get a  \n",
            "more powerful prediction. \n",
            "Thus, ensemble methods increase the accuracy of the predictions.\n",
            "============================================================================================================================================\n",
            "1  \n",
            " \n",
            "Ensemble Methods \n",
            "Let us consider a real world situation which uses Ensemble Methods, which is, when a user wants \n",
            "to buy a new product. Many users who have already purchased that product will have given either  \n",
            "positive or negative ratings. If in the group, many users have given positive ratings, then the \n",
            "combined rating will be positive. Instead of a single rating, the ratings of the group of users is\n",
            "============================================================================================================================================\n",
            "1  \n",
            " \n",
            "Ensemble Methods \n",
            "Let us consider a real world situation which uses Ensemble Methods, which is, when a user wants \n",
            "to buy a new product. Many users who have already purchased that product will have given either  \n",
            "positive or negative ratings. If in the group, many users have given positive ratings, then the \n",
            "combined rating will be positive. Instead of a single rating, the ratings of the group of users is\n",
            "============================================================================================================================================\n"
          ]
        }
      ]
    },
    {
      "cell_type": "markdown",
      "source": [
        "### **Edge cases where failure may happen**\n",
        "\n",
        "1. Lack of Diversity : Semantic search fetches all similar documents, but does not enforce diversity.\n",
        "\n",
        "    - Notice that we're getting duplicate chunks (because of the duplicate `ens_d2.pdf` in the index). `docs[0]` and `docs[1]` are indentical.\n",
        "\n",
        "  **Addressing Diversity - MMR (Maximum Marginal Relevance)**"
      ],
      "metadata": {
        "id": "4F5AXqC6I3gN"
      }
    },
    {
      "cell_type": "markdown",
      "source": [
        "Maximum Marginal Relevance (MMR) is a method used to retrieve relevant items to a query while avoiding redundancy. It does this by ensuring a balance between relevancy and diversity in the items retrieved.\n",
        "\n",
        "<img src='https://miro.medium.com/v2/resize:fit:828/format:webp/1*U-9mPt5tBfPBPrwC4_oD1w.png'>"
      ],
      "metadata": {
        "id": "TE6AOc3ZTL8x"
      }
    },
    {
      "cell_type": "code",
      "source": [
        "question = 'How ensemble method works?'\n",
        "docs = vectordb.similarity_search(question, k=3)     # Without MMR\n",
        "\n",
        "print(len(docs))\n",
        "\n",
        "for i in range(len(docs)):\n",
        "    print(docs[i].page_content)\n",
        "    print('='*140)"
      ],
      "metadata": {
        "id": "jpwufsTuI-Uz",
        "outputId": "ac4b962a-e149-4ec7-b456-ea807a6af39e",
        "colab": {
          "base_uri": "https://localhost:8080/"
        }
      },
      "execution_count": null,
      "outputs": [
        {
          "output_type": "stream",
          "name": "stdout",
          "text": [
            "3\n",
            "Why use Ensemble Methods? \n",
            "Ensemble Methods are used in order to: \n",
            "• decrease variance (bagging) \n",
            "• decrease bias (boosting) \n",
            "• improve predictions (stacking) \n",
            " \n",
            "Bagging \n",
            "Bagging actually refers to Bootstrap Aggregators. \n",
            "Bagging tests multiple models on the data by sampling and replacing data i.e it utilizes bootstrap - \n",
            "ping. In turn, this reduces the noise and variance by utilizing multiple samples. Each hypothesis\n",
            "============================================================================================================================================\n",
            "Why use Ensemble Methods? \n",
            "Ensemble Methods are used in order to: \n",
            "• decrease variance (bagging) \n",
            "• decrease bias (boosting) \n",
            "• improve predictions (stacking) \n",
            " \n",
            "Bagging \n",
            "Bagging actually refers to Bootstrap Aggregators. \n",
            "Bagging tests multiple models on the data by sampling and replacing data i.e it utilizes bootstrap - \n",
            "ping. In turn, this reduces the noise and variance by utilizing multiple samples. Each hypothesis\n",
            "============================================================================================================================================\n",
            "considered. The product is bought by the user when the combined ratings of the group is positive. \n",
            "The user gets a fairer idea about the product when all the ratings are combined. \n",
            "Here, the combination of ratings is done so that the decision making process of the user is made  \n",
            "easy. \n",
            "Ensemble Methods refer to combining many different machine learning models in order to get a  \n",
            "more powerful prediction. \n",
            "Thus, ensemble methods increase the accuracy of the predictions.\n",
            "============================================================================================================================================\n"
          ]
        }
      ]
    },
    {
      "cell_type": "markdown",
      "source": [
        "**Example 1. Addressing Diversity - MMR-Maximum Marginal Relevance**"
      ],
      "metadata": {
        "id": "CVlwfHLOJNET"
      }
    },
    {
      "cell_type": "code",
      "source": [
        "docs_with_mmr = vectordb.max_marginal_relevance_search(question, k=3, fetch_k=6)   # With MMR\n",
        "\n",
        "print(len(docs_with_mmr))\n",
        "\n",
        "for i in range(len(docs_with_mmr)):\n",
        "    print(docs_with_mmr[i].page_content)\n",
        "    print('='*140)"
      ],
      "metadata": {
        "id": "97gx2ZzBJO-z",
        "outputId": "cfdbf275-d9b7-4b83-ac86-be7b86ada344",
        "colab": {
          "base_uri": "https://localhost:8080/"
        }
      },
      "execution_count": null,
      "outputs": [
        {
          "output_type": "stream",
          "name": "stdout",
          "text": [
            "3\n",
            "Why use Ensemble Methods? \n",
            "Ensemble Methods are used in order to: \n",
            "• decrease variance (bagging) \n",
            "• decrease bias (boosting) \n",
            "• improve predictions (stacking) \n",
            " \n",
            "Bagging \n",
            "Bagging actually refers to Bootstrap Aggregators. \n",
            "Bagging tests multiple models on the data by sampling and replacing data i.e it utilizes bootstrap - \n",
            "ping. In turn, this reduces the noise and variance by utilizing multiple samples. Each hypothesis\n",
            "============================================================================================================================================\n",
            "considered. The product is bought by the user when the combined ratings of the group is positive. \n",
            "The user gets a fairer idea about the product when all the ratings are combined. \n",
            "Here, the combination of ratings is done so that the decision making process of the user is made  \n",
            "easy. \n",
            "Ensemble Methods refer to combining many different machine learning models in order to get a  \n",
            "more powerful prediction. \n",
            "Thus, ensemble methods increase the accuracy of the predictions.\n",
            "============================================================================================================================================\n",
            "1  \n",
            " \n",
            "Ensemble Methods \n",
            "Let us consider a real world situation which uses Ensemble Methods, which is, when a user wants \n",
            "to buy a new product. Many users who have already purchased that product will have given either  \n",
            "positive or negative ratings. If in the group, many users have given positive ratings, then the \n",
            "combined rating will be positive. Instead of a single rating, the ratings of the group of users is\n",
            "============================================================================================================================================\n"
          ]
        }
      ]
    },
    {
      "cell_type": "markdown",
      "source": [
        "2. Lack of specificity:  The question may be from a particular doc but answer may contain information from other doc.\n",
        "\n",
        "  **Addressing Specificity: Working with metadata - Manually**\n",
        "\n",
        "  **Working with metadata using self-query retriever - Automatically**"
      ],
      "metadata": {
        "id": "jNmQcZc8nvDm"
      }
    },
    {
      "cell_type": "markdown",
      "source": [
        "**Example 2. Addressing Specificity: Working with metadata - Manually**"
      ],
      "metadata": {
        "id": "SsZDx8-fJ8fE"
      }
    },
    {
      "cell_type": "code",
      "source": [
        "# Without metadata information\n",
        "question = \"What is variance?\"\n",
        "\n",
        "docs = vectordb.similarity_search(question, k=5)\n",
        "\n",
        "for doc in docs:\n",
        "    print(doc.metadata)    # metadata contains information about from which doc the answer has been fetched"
      ],
      "metadata": {
        "id": "9IlD3OQhJ-Fb",
        "outputId": "573b45b0-cc11-42f5-f45a-2472cb557648",
        "colab": {
          "base_uri": "https://localhost:8080/"
        }
      },
      "execution_count": null,
      "outputs": [
        {
          "output_type": "stream",
          "name": "stdout",
          "text": [
            "{'page': 0, 'source': '/content/pca_d1.pdf'}\n",
            "{'page': 0, 'source': '/content/ens_d2.pdf'}\n",
            "{'page': 0, 'source': '/content/ens_d2.pdf'}\n",
            "{'page': 0, 'source': '/content/pca_d1.pdf'}\n",
            "{'page': 1, 'source': '/content/pca_d1.pdf'}\n"
          ]
        }
      ]
    },
    {
      "cell_type": "markdown",
      "source": [
        "We can filter the results based on metadata."
      ],
      "metadata": {
        "id": "yCRPVfiSO_eC"
      }
    },
    {
      "cell_type": "code",
      "source": [
        "# With metadata information\n",
        "question = \"what is the role of variance in pca?\"\n",
        "docs = vectordb.similarity_search(\n",
        "    question,\n",
        "    k=5,\n",
        "    filter={\"source\":'/content/ens_d2.pdf'}     # manually passing metadata, using metadata filter.\n",
        ")\n",
        "\n",
        "for doc in docs:\n",
        "    print(doc.metadata)"
      ],
      "metadata": {
        "id": "it6xqSSrJ-NT",
        "outputId": "5d026827-ce42-42ed-d6c3-fad7d85dfca7",
        "colab": {
          "base_uri": "https://localhost:8080/"
        }
      },
      "execution_count": null,
      "outputs": [
        {
          "output_type": "stream",
          "name": "stdout",
          "text": [
            "{'page': 0, 'source': '/content/ens_d2.pdf'}\n",
            "{'page': 0, 'source': '/content/ens_d2.pdf'}\n",
            "{'page': 0, 'source': '/content/ens_d2.pdf'}\n",
            "{'page': 0, 'source': '/content/ens_d2.pdf'}\n",
            "{'page': 1, 'source': '/content/ens_d2.pdf'}\n"
          ]
        }
      ]
    },
    {
      "cell_type": "code",
      "source": [
        "# With metadata information + MMR\n",
        "\n",
        "docs_with_mmr = vectordb.max_marginal_relevance_search(question,\n",
        "                                                       k=2,\n",
        "                                                       fetch_k=5,\n",
        "                                                       filter={\"source\":'/content/ens_d2.pdf'}     # manually passing metadata, using metadata filter.\n",
        "                                                       )"
      ],
      "metadata": {
        "id": "B-6RjPCZR6IZ"
      },
      "execution_count": null,
      "outputs": []
    },
    {
      "cell_type": "code",
      "source": [
        "for i in range(len(docs_with_mmr)):\n",
        "    print(docs_with_mmr[i].page_content)\n",
        "    print('='*140)"
      ],
      "metadata": {
        "id": "BLF9imzhRJQJ",
        "outputId": "75456843-d567-4550-e8bc-fd4b3f1f9e0f",
        "colab": {
          "base_uri": "https://localhost:8080/"
        }
      },
      "execution_count": null,
      "outputs": [
        {
          "output_type": "stream",
          "name": "stdout",
          "text": [
            "models. \n",
            " \n",
            "Variance \n",
            "Variance quantifies how the predictions made on same observation are different from each other. A  \n",
            "high variance model will over -fit on your training population and perform badly on any observation  \n",
            "beyond training. Thus, we aim at low variance.\n",
            "============================================================================================================================================\n",
            "subset of features is selected, further randomizing the tree. \n",
            "As a result, the bias of the forest increases slightly, but due to the averaging of less correlated  \n",
            "trees, its variance decreases, resulting in an overall better model.\n",
            "============================================================================================================================================\n"
          ]
        }
      ]
    },
    {
      "cell_type": "markdown",
      "source": [
        "[**Addressing Specificity -Automatically: Working with metadata using self-query retriever**](https://python.langchain.com/docs/how_to/self_query/)"
      ],
      "metadata": {
        "id": "0Ad08RAEPhVN"
      }
    },
    {
      "cell_type": "markdown",
      "source": [
        "### **Additional tricks: Compression**\n",
        "\n",
        "Another approach for improving the quality of retrieved docs is compression. Information most relevant to a query may be buried in a document with a lot of irrelevant text. Passing that full document through your application can lead to more expensive LLM calls and poorer responses.\n",
        "\n",
        "[Contextual compression](https://python.langchain.com/docs/how_to/contextual_compression/) is meant to fix this."
      ],
      "metadata": {
        "id": "vSpvKgQDQW6a"
      }
    },
    {
      "cell_type": "markdown",
      "source": [
        "## **Retrieval**\n",
        "\n",
        "**[Vectorstore as a retriever](https://python.langchain.com/docs/how_to/vectorstore_retriever/)**"
      ],
      "metadata": {
        "id": "Y6UERPlnQsoP"
      }
    },
    {
      "cell_type": "markdown",
      "source": [
        "**Better Approach**"
      ],
      "metadata": {
        "id": "SMc9GmSCT1on"
      }
    },
    {
      "cell_type": "code",
      "source": [
        "# Without MMR\n",
        "question = \"What is principal component analysis?\"\n",
        "retriever = vectordb.as_retriever(search_kwargs={\"k\": 3})\n",
        "docs = retriever.invoke(question)\n",
        "docs"
      ],
      "metadata": {
        "id": "s84yVVx2Tgl-",
        "outputId": "5580cb57-8cf9-4dc7-afa6-07914a9c9df5",
        "colab": {
          "base_uri": "https://localhost:8080/"
        }
      },
      "execution_count": null,
      "outputs": [
        {
          "output_type": "execute_result",
          "data": {
            "text/plain": [
              "[Document(metadata={'page': 1, 'source': '/content/pca_d1.pdf'}, page_content='2 \\n \\n \\n \\nSo, what does Principal Component Analysis (PCA) do? \\nPCA finds a new set of dimensions (or a set of basis of views) such that all the dimensions are  \\northogonal (and hence linearly independent) and ranked according to the variance of data along  \\nthem. It means more important principle axis occurs first. (more important = more variance/more  \\nspread out data) \\n \\nHow does PCA work? \\n• Calculate the covariance matrix X of data points.'),\n",
              " Document(metadata={'page': 0, 'source': '/content/pca_d1.pdf'}, page_content='1 \\n \\n \\nN \\n \\n1 Principal Component Analysis \\nIn real world data analysis tasks we analyze complex data i.e. multi dimensional data. We plot the  \\ndata and find various patterns in it or use it to train some machine learning models.  One way to  \\nthink about dimensions is that suppose you have an data point x , if we consider this data point as \\na physical object then dimensions are merely a basis of view, like where is the data located when'),\n",
              " Document(metadata={'page': 2, 'source': '/content/pca_d1.pdf'}, page_content='This defines the goal of PCA:- \\n1. Find linearly independent dimensions which can losslessly represent the data points. \\n2. Those newly found dimensions should allow us to predict/reconstruct the original dimensions.')]"
            ]
          },
          "metadata": {},
          "execution_count": 38
        }
      ]
    },
    {
      "cell_type": "code",
      "source": [
        "# With MMR\n",
        "retriever = vectordb.as_retriever(search_type=\"mmr\", search_kwargs={\"k\": 2, \"fetch_k\":5})\n",
        "docs = retriever.invoke(question)\n",
        "docs"
      ],
      "metadata": {
        "id": "bfF5Yu7zT0QY",
        "outputId": "2fa112a3-5990-4bf7-94a0-1f77ff434764",
        "colab": {
          "base_uri": "https://localhost:8080/"
        }
      },
      "execution_count": null,
      "outputs": [
        {
          "output_type": "execute_result",
          "data": {
            "text/plain": [
              "[Document(metadata={'page': 1, 'source': '/content/pca_d1.pdf'}, page_content='2 \\n \\n \\n \\nSo, what does Principal Component Analysis (PCA) do? \\nPCA finds a new set of dimensions (or a set of basis of views) such that all the dimensions are  \\northogonal (and hence linearly independent) and ranked according to the variance of data along  \\nthem. It means more important principle axis occurs first. (more important = more variance/more  \\nspread out data) \\n \\nHow does PCA work? \\n• Calculate the covariance matrix X of data points.'),\n",
              " Document(metadata={'page': 0, 'source': '/content/pca_d1.pdf'}, page_content='1 \\n \\n \\nN \\n \\n1 Principal Component Analysis \\nIn real world data analysis tasks we analyze complex data i.e. multi dimensional data. We plot the  \\ndata and find various patterns in it or use it to train some machine learning models.  One way to  \\nthink about dimensions is that suppose you have an data point x , if we consider this data point as \\na physical object then dimensions are merely a basis of view, like where is the data located when')]"
            ]
          },
          "metadata": {},
          "execution_count": 39
        }
      ]
    },
    {
      "cell_type": "markdown",
      "source": [
        "## **Augmentation**"
      ],
      "metadata": {
        "id": "8DyRvpuRQ8_T"
      }
    },
    {
      "cell_type": "code",
      "source": [
        "from langchain_core.prompts import PromptTemplate                                    # To format prompts\n",
        "from langchain_core.output_parsers import StrOutputParser                            # to transform the output of an LLM into a more usable format\n",
        "from langchain.schema.runnable import RunnableParallel, RunnablePassthrough          # Required by LCEL (LangChain Expression Language)"
      ],
      "metadata": {
        "id": "86wr6Mv6WLX3"
      },
      "execution_count": null,
      "outputs": []
    },
    {
      "cell_type": "code",
      "source": [
        "# Build prompt\n",
        "template = \"\"\"Use the following pieces of context to answer the question at the end.\n",
        "If you don't know the answer, just say that you don't know, don't try to make up an answer.\n",
        "Always say \"thanks for asking!\" at the end of the answer.\n",
        "{context}\n",
        "Question: {question}\n",
        "Helpful Answer:\"\"\"\n",
        "\n",
        "QA_PROMPT = PromptTemplate(input_variables=[\"context\", \"question\"], template=template)"
      ],
      "metadata": {
        "id": "Ng1noLv0WVmY"
      },
      "execution_count": null,
      "outputs": []
    },
    {
      "cell_type": "markdown",
      "source": [
        "## **Creating final RAG Chain**"
      ],
      "metadata": {
        "id": "vSIy0CnwMv2h"
      }
    },
    {
      "cell_type": "markdown",
      "source": [
        "> <img src='https://www.pinecone.io/_next/image/?url=https%3A%2F%2Fcdn.sanity.io%2Fimages%2Fvr8gru94%2Fproduction%2F63f8a8482c9ec06a8d7d1041514f87c06dd108a9-3442x942.png&w=3840&q=75' width=1200px>\n",
        "\n",
        "[[Image source](https://www.pinecone.io/learn/series/langchain/langchain-expression-language/)]\n",
        "\n",
        "Above figure describes the LCEL flow using `RunnableParallel` and `RunnablePassthrough`.\n",
        "\n",
        "A Runnable is a **unit of execution** in the LangChain framework. It represents a specific task or operation that can be performed.\n",
        "\n",
        "Examples of Runnables include data transformations, computations, or any other operation that can be **expressed** in the LCEL(LangChain expression language).\n",
        "\n",
        "[Runnable Lambdas](https://api.python.langchain.com/en/latest/runnables/langchain_core.runnables.base.RunnableLambda.html) is a LangChain abstraction that allows us to turn Python functions into **pipe-compatible functions**, similar to the Runnable class.\n",
        "\n",
        "[RunnablePassthrough](https://api.python.langchain.com/en/latest/runnables/langchain_core.runnables.passthrough.RunnablePassthrough.html) on its own allows you to pass inputs unchanged. This typically is **used in conjuction with [RunnableParallel](https://python.langchain.com/v0.1/docs/expression_language/interface/#parallelism)** to pass data through to a new key in the map.\n",
        "\n",
        "The **RunnableParallel** object allows us to define multiple values and operations, and run them all in parallel.\n",
        "\n",
        "The **RunnablePassthrough** object is used as a “passthrough” that takes any input to the current component ('retrieval' in above figure) and allows us to provide it in the component output via the “question” key or any other custom key."
      ],
      "metadata": {
        "id": "8lELTaT0PwPG"
      }
    },
    {
      "cell_type": "code",
      "source": [
        "retriever = vectordb.as_retriever(search_type=\"mmr\", search_kwargs={\"k\": 7, \"fetch_k\":15})\n",
        "retriever"
      ],
      "metadata": {
        "id": "dcOQf2ZLTHPZ",
        "outputId": "0f6c933f-547c-4625-f93a-6edb22861944",
        "colab": {
          "base_uri": "https://localhost:8080/"
        }
      },
      "execution_count": null,
      "outputs": [
        {
          "output_type": "execute_result",
          "data": {
            "text/plain": [
              "VectorStoreRetriever(tags=['Chroma', 'OpenAIEmbeddings'], vectorstore=<langchain_chroma.vectorstores.Chroma object at 0x7a1b0185c940>, search_type='mmr', search_kwargs={'k': 7, 'fetch_k': 15})"
            ]
          },
          "metadata": {},
          "execution_count": 42
        }
      ]
    },
    {
      "cell_type": "code",
      "source": [
        "retrieval = RunnableParallel(\n",
        "    {\n",
        "        \"context\": RunnablePassthrough(context= lambda x: x[\"question\"] | retriever),\n",
        "        \"question\": RunnablePassthrough()\n",
        "        }\n",
        "    )"
      ],
      "metadata": {
        "id": "65U__FHBRNzr"
      },
      "execution_count": null,
      "outputs": []
    },
    {
      "cell_type": "code",
      "source": [
        "# RAG Chain\n",
        "\n",
        "rag_chain = (retrieval                     # Retrieval\n",
        "             | QA_PROMPT                   # Augmentation\n",
        "             | llm                         # Generation\n",
        "             | StrOutputParser()\n",
        "             )"
      ],
      "metadata": {
        "id": "ACe-oEU3g5Mq"
      },
      "execution_count": null,
      "outputs": []
    },
    {
      "cell_type": "code",
      "source": [
        "response = rag_chain.invoke({\"question\": \"What is PCA ?\"})\n",
        "\n",
        "response"
      ],
      "metadata": {
        "id": "h5njKoSDUsAT",
        "outputId": "ac2c5ca6-51f2-4316-9043-52cc008afafe",
        "colab": {
          "base_uri": "https://localhost:8080/",
          "height": 88
        }
      },
      "execution_count": null,
      "outputs": [
        {
          "output_type": "execute_result",
          "data": {
            "text/plain": [
              "'PCA, or Principal Component Analysis, is a statistical technique used for dimensionality reduction. It transforms a dataset into a new coordinate system, where the greatest variance by any projection of the data lies on the first coordinate (called the first principal component), the second greatest variance on the second coordinate, and so on. This helps in simplifying the dataset while retaining its essential features, making it easier to visualize and analyze. Thanks for asking!'"
            ],
            "application/vnd.google.colaboratory.intrinsic+json": {
              "type": "string"
            }
          },
          "metadata": {},
          "execution_count": 45
        }
      ]
    },
    {
      "cell_type": "code",
      "source": [
        "response = rag_chain.invoke({\"question\": \"What is principal component analysis?\"})\n",
        "\n",
        "response"
      ],
      "metadata": {
        "id": "tzgSs_H_U0YD",
        "outputId": "3b852a54-4777-46cc-dcb2-cf7f6740a7f0",
        "colab": {
          "base_uri": "https://localhost:8080/",
          "height": 88
        }
      },
      "execution_count": null,
      "outputs": [
        {
          "output_type": "execute_result",
          "data": {
            "text/plain": [
              "'Principal component analysis (PCA) is a statistical technique used to reduce the dimensionality of a dataset while preserving as much variance as possible. It transforms the original variables into a new set of uncorrelated variables called principal components, which are ordered by the amount of variance they capture from the data. PCA is commonly used in exploratory data analysis, data visualization, and preprocessing for machine learning.\\n\\nThanks for asking!'"
            ],
            "application/vnd.google.colaboratory.intrinsic+json": {
              "type": "string"
            }
          },
          "metadata": {},
          "execution_count": 46
        }
      ]
    },
    {
      "cell_type": "code",
      "source": [
        "response = rag_chain.invoke({\"question\": \"How ensemble method works?\"})\n",
        "\n",
        "print(response)"
      ],
      "metadata": {
        "id": "t5ju2XCJVB4v",
        "outputId": "109ad964-b6e3-436a-fd23-9c605c5a7b34",
        "colab": {
          "base_uri": "https://localhost:8080/"
        }
      },
      "execution_count": null,
      "outputs": [
        {
          "output_type": "stream",
          "name": "stdout",
          "text": [
            "Ensemble methods work by combining multiple models to improve the overall performance of a predictive task. The idea is that by aggregating the predictions from several models, the ensemble can achieve better accuracy and robustness than any individual model. There are several types of ensemble methods, including:\n",
            "\n",
            "1. **Bagging (Bootstrap Aggregating)**: This technique involves training multiple models on different subsets of the training data, which are created by sampling with replacement. The final prediction is made by averaging the predictions (for regression) or by majority voting (for classification).\n",
            "\n",
            "2. **Boosting**: In boosting, models are trained sequentially, with each new model focusing on the errors made by the previous ones. The predictions from all models are then combined, often with more weight given to the more accurate models.\n",
            "\n",
            "3. **Stacking**: This method involves training multiple models (the base learners) and then using another model (the meta-learner) to combine their predictions. The meta-learner is trained on the outputs of the base learners to make the final prediction.\n",
            "\n",
            "Ensemble methods are widely used because they can reduce overfitting and improve generalization on unseen data. \n",
            "\n",
            "Thanks for asking!\n"
          ]
        }
      ]
    },
    {
      "cell_type": "code",
      "source": [
        "# For queries that is not in documents\n",
        "response = rag_chain.invoke({\"question\": \"Who is the CEO of OpenAI \"})\n",
        "\n",
        "print(response)"
      ],
      "metadata": {
        "id": "TnpL5ouzWwd3",
        "outputId": "6869bd7d-8863-478e-909b-6c4dd6e18a67",
        "colab": {
          "base_uri": "https://localhost:8080/"
        }
      },
      "execution_count": null,
      "outputs": [
        {
          "output_type": "stream",
          "name": "stdout",
          "text": [
            "I don't know. Thanks for asking!\n"
          ]
        }
      ]
    },
    {
      "cell_type": "markdown",
      "source": [
        "**To check what is being retreived from the retriever**"
      ],
      "metadata": {
        "id": "lAj9vHG3MHXd"
      }
    },
    {
      "cell_type": "code",
      "source": [
        "chain_retriever = RunnablePassthrough() | retriever"
      ],
      "metadata": {
        "id": "yIzMCWNDEt0X"
      },
      "execution_count": null,
      "outputs": []
    },
    {
      "cell_type": "code",
      "source": [
        "chain_retriever.invoke(\"What is principal component analysis?\")"
      ],
      "metadata": {
        "id": "PsPTV5G6FBF8",
        "outputId": "cf0df9d6-67df-4827-852c-d1bd58603f8a",
        "colab": {
          "base_uri": "https://localhost:8080/"
        }
      },
      "execution_count": null,
      "outputs": [
        {
          "output_type": "execute_result",
          "data": {
            "text/plain": [
              "[Document(metadata={'page': 1, 'source': '/content/pca_d1.pdf'}, page_content='2 \\n \\n \\n \\nSo, what does Principal Component Analysis (PCA) do? \\nPCA finds a new set of dimensions (or a set of basis of views) such that all the dimensions are  \\northogonal (and hence linearly independent) and ranked according to the variance of data along  \\nthem. It means more important principle axis occurs first. (more important = more variance/more  \\nspread out data) \\n \\nHow does PCA work? \\n• Calculate the covariance matrix X of data points.'),\n",
              " Document(metadata={'page': 0, 'source': '/content/pca_d1.pdf'}, page_content='1 \\n \\n \\nN \\n \\n1 Principal Component Analysis \\nIn real world data analysis tasks we analyze complex data i.e. multi dimensional data. We plot the  \\ndata and find various patterns in it or use it to train some machine learning models.  One way to  \\nthink about dimensions is that suppose you have an data point x , if we consider this data point as \\na physical object then dimensions are merely a basis of view, like where is the data located when'),\n",
              " Document(metadata={'page': 2, 'source': '/content/pca_d1.pdf'}, page_content='This defines the goal of PCA:- \\n1. Find linearly independent dimensions which can losslessly represent the data points. \\n2. Those newly found dimensions should allow us to predict/reconstruct the original dimensions.'),\n",
              " Document(metadata={'page': 2, 'source': '/content/pca_d1.pdf'}, page_content='• zero values as the off diagonal elements. \\nWe call it a diagonal matrix. So, we have to transform the original data points such that their  \\ncovariance is a diagonal matrix. \\nAlways normalize your data before doing PCA if we use data (features here) of different scales, we \\nget misleading components. We can also simply use correlation matrix instead of using covariance  \\nmatrix if features are of different scales. \\nThis defines the goal of PCA:-'),\n",
              " Document(metadata={'page': 0, 'source': '/content/pca_d1.pdf'}, page_content='Mathematically, it is the average squared deviation from the mean score. We use the following \\nformula to compute variance var(x). \\n \\nvar(x) = \\nΣ(xi−x¯)2 \\nN \\nCovariance :  It is a measure of the extent to which corresponding elements from two sets of  \\nordered data move in the same direction. Formula is shown below denoted by cov(x,y) as the  \\ncovariance of x and y. \\nvar(x)  =  \\nΣ(xi−x¯)(yi−y¯) \\n• Here, xi is the value of x in ith dimension.'),\n",
              " Document(metadata={'page': 0, 'source': '/content/ens_d2.pdf'}, page_content='considered. The product is bought by the user when the combined ratings of the group is positive. \\nThe user gets a fairer idea about the product when all the ratings are combined. \\nHere, the combination of ratings is done so that the decision making process of the user is made  \\neasy. \\nEnsemble Methods refer to combining many different machine learning models in order to get a  \\nmore powerful prediction. \\nThus, ensemble methods increase the accuracy of the predictions.'),\n",
              " Document(metadata={'page': 1, 'source': '/content/ens_d2.pdf'}, page_content='subset of features is selected, further randomizing the tree. \\nAs a result, the bias of the forest increases slightly, but due to the averaging of less correlated  \\ntrees, its variance decreases, resulting in an overall better model.')]"
            ]
          },
          "metadata": {},
          "execution_count": 50
        }
      ]
    },
    {
      "cell_type": "code",
      "source": [
        "chain_retriever.invoke(\"How ensemble method works?\")"
      ],
      "metadata": {
        "id": "Hwt2r09VPPI0",
        "outputId": "40967076-5d62-465d-b4fd-17f8130e3018",
        "colab": {
          "base_uri": "https://localhost:8080/"
        }
      },
      "execution_count": null,
      "outputs": [
        {
          "output_type": "execute_result",
          "data": {
            "text/plain": [
              "[Document(metadata={'page': 0, 'source': '/content/ens_d2.pdf'}, page_content='Why use Ensemble Methods? \\nEnsemble Methods are used in order to: \\n• decrease variance (bagging) \\n• decrease bias (boosting) \\n• improve predictions (stacking) \\n \\nBagging \\nBagging actually refers to Bootstrap Aggregators. \\nBagging tests multiple models on the data by sampling and replacing data i.e it utilizes bootstrap - \\nping. In turn, this reduces the noise and variance by utilizing multiple samples. Each hypothesis'),\n",
              " Document(metadata={'page': 0, 'source': '/content/ens_d2.pdf'}, page_content='considered. The product is bought by the user when the combined ratings of the group is positive. \\nThe user gets a fairer idea about the product when all the ratings are combined. \\nHere, the combination of ratings is done so that the decision making process of the user is made  \\neasy. \\nEnsemble Methods refer to combining many different machine learning models in order to get a  \\nmore powerful prediction. \\nThus, ensemble methods increase the accuracy of the predictions.'),\n",
              " Document(metadata={'page': 0, 'source': '/content/ens_d2.pdf'}, page_content='1  \\n \\nEnsemble Methods \\nLet us consider a real world situation which uses Ensemble Methods, which is, when a user wants \\nto buy a new product. Many users who have already purchased that product will have given either  \\npositive or negative ratings. If in the group, many users have given positive ratings, then the \\ncombined rating will be positive. Instead of a single rating, the ratings of the group of users is'),\n",
              " Document(metadata={'page': 1, 'source': '/content/ens_d2.pdf'}, page_content='2  \\n \\nBias \\nBias error is useful to quantify how much on on average are the predicted values different from the  \\nactual value. A high  bias  error means we have a under -performing model.  Thus,  we aim at low  \\nbias. \\nA commonly used class of ensemble methods are forests of randomized trees. \\nIn random forests, each tree in the ensemble is built from a sample drawn with replacement (i.e. \\na bootstrap sample) from the training set. In addition, instead of using all the features, a random'),\n",
              " Document(metadata={'page': 0, 'source': '/content/ens_d2.pdf'}, page_content='has the same weight as all the others. Now, aggregating of the outputs of various models is done. \\n \\nBoosting \\nBoosting is an iterative technique which adjusts the weight of an observation based on the last  \\nclassification. If an observation was classified incorrectly, it tries to increase the weight of this  \\nobservation and vice versa. Boosting in general decreases the bias error and builds strong predictive  \\nmodels. \\n \\nVariance'),\n",
              " Document(metadata={'page': 1, 'source': '/content/pca_d1.pdf'}, page_content='2 \\n \\n \\n \\nSo, what does Principal Component Analysis (PCA) do? \\nPCA finds a new set of dimensions (or a set of basis of views) such that all the dimensions are  \\northogonal (and hence linearly independent) and ranked according to the variance of data along  \\nthem. It means more important principle axis occurs first. (more important = more variance/more  \\nspread out data) \\n \\nHow does PCA work? \\n• Calculate the covariance matrix X of data points.'),\n",
              " Document(metadata={'page': 1, 'source': '/content/ens_d2.pdf'}, page_content='subset of features is selected, further randomizing the tree. \\nAs a result, the bias of the forest increases slightly, but due to the averaging of less correlated  \\ntrees, its variance decreases, resulting in an overall better model.')]"
            ]
          },
          "metadata": {},
          "execution_count": 51
        }
      ]
    },
    {
      "cell_type": "markdown",
      "source": [
        "[**Details of Chroma through LangChain**](https://python.langchain.com/docs/integrations/vectorstores/chroma/)"
      ],
      "metadata": {
        "id": "BK8ISVozuENp"
      }
    },
    {
      "cell_type": "markdown",
      "source": [
        "## Reusing Vector DB"
      ],
      "metadata": {
        "id": "T97SnUYQuhIC"
      }
    },
    {
      "cell_type": "markdown",
      "source": [
        "### **Download the vector DB**"
      ],
      "metadata": {
        "id": "v7OnDFDbk_BI"
      }
    },
    {
      "cell_type": "code",
      "source": [
        "# Zip the entire folder\n",
        "!zip -r /content/docs.zip /content/docs"
      ],
      "metadata": {
        "id": "A0_0aghhlBzP",
        "outputId": "35b02425-7132-4f1c-8073-6614666129cd",
        "colab": {
          "base_uri": "https://localhost:8080/"
        }
      },
      "execution_count": null,
      "outputs": [
        {
          "output_type": "stream",
          "name": "stdout",
          "text": [
            "  adding: content/docs/ (stored 0%)\n",
            "  adding: content/docs/chroma/ (stored 0%)\n",
            "  adding: content/docs/chroma/d6331c83-e352-441d-85a0-e05f62774915/ (stored 0%)\n",
            "  adding: content/docs/chroma/d6331c83-e352-441d-85a0-e05f62774915/data_level0.bin (deflated 100%)\n",
            "  adding: content/docs/chroma/d6331c83-e352-441d-85a0-e05f62774915/link_lists.bin (stored 0%)\n",
            "  adding: content/docs/chroma/d6331c83-e352-441d-85a0-e05f62774915/header.bin (deflated 61%)\n",
            "  adding: content/docs/chroma/d6331c83-e352-441d-85a0-e05f62774915/length.bin (deflated 13%)\n",
            "  adding: content/docs/chroma/chroma.sqlite3 (deflated 61%)\n"
          ]
        }
      ]
    },
    {
      "cell_type": "code",
      "source": [
        "from google.colab import files\n",
        "files.download(\"/content/docs.zip\")"
      ],
      "metadata": {
        "id": "koEmhPTMlE5o",
        "outputId": "53698165-2c8e-41a4-a7e4-0888d4bcc48d",
        "colab": {
          "base_uri": "https://localhost:8080/",
          "height": 17
        }
      },
      "execution_count": null,
      "outputs": [
        {
          "output_type": "display_data",
          "data": {
            "text/plain": [
              "<IPython.core.display.Javascript object>"
            ],
            "application/javascript": [
              "\n",
              "    async function download(id, filename, size) {\n",
              "      if (!google.colab.kernel.accessAllowed) {\n",
              "        return;\n",
              "      }\n",
              "      const div = document.createElement('div');\n",
              "      const label = document.createElement('label');\n",
              "      label.textContent = `Downloading \"${filename}\": `;\n",
              "      div.appendChild(label);\n",
              "      const progress = document.createElement('progress');\n",
              "      progress.max = size;\n",
              "      div.appendChild(progress);\n",
              "      document.body.appendChild(div);\n",
              "\n",
              "      const buffers = [];\n",
              "      let downloaded = 0;\n",
              "\n",
              "      const channel = await google.colab.kernel.comms.open(id);\n",
              "      // Send a message to notify the kernel that we're ready.\n",
              "      channel.send({})\n",
              "\n",
              "      for await (const message of channel.messages) {\n",
              "        // Send a message to notify the kernel that we're ready.\n",
              "        channel.send({})\n",
              "        if (message.buffers) {\n",
              "          for (const buffer of message.buffers) {\n",
              "            buffers.push(buffer);\n",
              "            downloaded += buffer.byteLength;\n",
              "            progress.value = downloaded;\n",
              "          }\n",
              "        }\n",
              "      }\n",
              "      const blob = new Blob(buffers, {type: 'application/binary'});\n",
              "      const a = document.createElement('a');\n",
              "      a.href = window.URL.createObjectURL(blob);\n",
              "      a.download = filename;\n",
              "      div.appendChild(a);\n",
              "      a.click();\n",
              "      div.remove();\n",
              "    }\n",
              "  "
            ]
          },
          "metadata": {}
        },
        {
          "output_type": "display_data",
          "data": {
            "text/plain": [
              "<IPython.core.display.Javascript object>"
            ],
            "application/javascript": [
              "download(\"download_1f0e71e4-177d-49d3-af72-5ee284d7b153\", \"docs.zip\", 203996)"
            ]
          },
          "metadata": {}
        }
      ]
    },
    {
      "cell_type": "markdown",
      "source": [
        "### **Upload the vector db from previous step and unzip**"
      ],
      "metadata": {
        "id": "X7bjem50lIzp"
      }
    },
    {
      "cell_type": "code",
      "source": [
        "!unzip /content/docs.zip  -d /"
      ],
      "metadata": {
        "id": "oBND2d4glLY-",
        "outputId": "22555937-3a61-4cff-e050-8f99fe6a46f0",
        "colab": {
          "base_uri": "https://localhost:8080/"
        }
      },
      "execution_count": null,
      "outputs": [
        {
          "output_type": "stream",
          "name": "stdout",
          "text": [
            "Archive:  /content/docs.zip\n",
            "replace /content/docs/chroma/d6331c83-e352-441d-85a0-e05f62774915/data_level0.bin? [y]es, [n]o, [A]ll, [N]one, [r]ename: "
          ]
        }
      ]
    },
    {
      "cell_type": "code",
      "source": [
        "from langchain_chroma import Chroma\n",
        "from langchain_openai import OpenAIEmbeddings\n",
        "\n",
        "embedding = OpenAIEmbeddings(model='text-embedding-3-small')\n",
        "\n",
        "vectordb = Chroma(persist_directory = 'docs/chroma/',\n",
        "                  embedding_function = embedding\n",
        "                  )"
      ],
      "metadata": {
        "id": "n3Msb--vlQCy"
      },
      "execution_count": null,
      "outputs": []
    }
  ]
}